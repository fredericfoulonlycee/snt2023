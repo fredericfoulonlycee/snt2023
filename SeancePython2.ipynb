{
 "cells": [
  {
   "cell_type": "markdown",
   "metadata": {
    "extensions": {
     "jupyter_dashboards": {
      "version": 1,
      "views": {
       "grid_default": {},
       "report_default": {}
      }
     }
    }
   },
   "source": [
    "# Séance 2 : Les conditions  "
   ]
  },
  {
   "cell_type": "markdown",
   "metadata": {
    "extensions": {
     "jupyter_dashboards": {
      "version": 1,
      "views": {
       "grid_default": {},
       "report_default": {}
      }
     }
    }
   },
   "source": [
    "## Activité 1 : Qu'est ce qu'une condition ?\n",
    "\n",
    "Lire attentivement le paragraphe 4 p 176 et répondre aux questions suivantes : \n",
    "\n",
    "+ Qu'est ce qu'une condition? \n",
    "+ Pourquoi doit t-on écrire \"==\" dans une condition ? \n",
    "+ Que signifie != ? \n",
    "+ Que signifie \"and\", \"or\" et \"not\" ?\n",
    "\n",
    "**Noter les réponses et la définition d'une condition sur votre compte rendu**"
   ]
  },
  {
   "cell_type": "markdown",
   "metadata": {},
   "source": [
    "**Rappels :**\n",
    "\n",
    "- if signifie si\n",
    "- else signifie sinon\n",
    "- les blocs d'instructions sont annoncés par les deux points : et commencent par le même nombre d'espaces.\n",
    "- "
   ]
  },
  {
   "cell_type": "markdown",
   "metadata": {
    "extensions": {
     "jupyter_dashboards": {
      "version": 1,
      "views": {
       "grid_default": {},
       "report_default": {}
      }
     }
    }
   },
   "source": [
    "## Activité 2 : Une condition simple \n",
    "\n",
    "Voilà le script d'un programme en Python :  "
   ]
  },
  {
   "cell_type": "code",
   "execution_count": null,
   "metadata": {},
   "outputs": [],
   "source": [
    "age = eval(input(\"Entrez votre âge : \"))\n",
    "if age < 18:\n",
    "    print(\"Vous êtes mineur.\")\n",
    "else:\n",
    "    print(\"Vous êtes majeur.\")"
   ]
  },
  {
   "cell_type": "markdown",
   "metadata": {
    "extensions": {
     "jupyter_dashboards": {
      "version": 1,
      "views": {
       "grid_default": {},
       "report_default": {}
      }
     }
    }
   },
   "source": [
    "+ Si vous deviez donner un titre à ce programme quel serait-il ?\n",
    "+ Testez différentes valeurs pour l'age ?\n",
    "+ Par quoi une condition est-elle toujours suivie ?\n",
    "+ comment se nomme le décalage vers la droite devant les instructions à éxécuter ? \n",
    "\n",
    "**Noter les réponses sur votre compte rendu et le programme ci dessous avec la coloration syntaxique**"
   ]
  },
  {
   "cell_type": "markdown",
   "metadata": {},
   "source": [
    "Dans le cadre de code ci-dessous, écrire un programme Python qui demande la température extérieure (météo) \n",
    "et qui écrit s'il gèle ou non."
   ]
  },
  {
   "cell_type": "code",
   "execution_count": null,
   "metadata": {},
   "outputs": [],
   "source": [
    "# programme température\n"
   ]
  },
  {
   "cell_type": "markdown",
   "metadata": {},
   "source": [
    "## Activité 3 : Comment imbriquer des conditions ?"
   ]
  },
  {
   "cell_type": "markdown",
   "metadata": {},
   "source": [
    "<IMG SRC=\"socialmedia.png\" width=200>"
   ]
  },
  {
   "cell_type": "markdown",
   "metadata": {},
   "source": [
    "La **loi** interdit à un jeune de moins de 13 ans de s'inscrire sur les réseaux sociaux.\n",
    "Entre 13 et 15 ans, l'inscription nécessite l'autorisation d'un responsable légal.\n",
    "Au-delà de 15 ans, l'inscription est autorisée sans condition.\n",
    "Ecrire un programme qui affiche les modalité d'inscription en fonction de l'age de l'utilisateur.\n",
    "\n",
    "**Noter le programme sur votre compte rendu (avec la coloration syntaxique)**"
   ]
  },
  {
   "cell_type": "code",
   "execution_count": null,
   "metadata": {},
   "outputs": [],
   "source": [
    "# Noter votre programme dans ce cadre et testez le !\n"
   ]
  },
  {
   "cell_type": "markdown",
   "metadata": {},
   "source": [
    "## Activité 4 : La photographie numérique"
   ]
  },
  {
   "cell_type": "markdown",
   "metadata": {},
   "source": [
    "<IMG SRC=\"photo.png\" width=200>"
   ]
  },
  {
   "cell_type": "markdown",
   "metadata": {},
   "source": [
    "Afin de repérer la couleur dominante  d'un pixel parmi les valeurs de Rouge (R), de vert (V) et de bleu (B).\n",
    "Les valeurs de R,V et B sont des entiers de 0 à 255.\n",
    "On souhaite afficher quelle est la plus grande parmi les trois . \n",
    "\n",
    "+ Qu'est-ce qu'un pixel?\n",
    "+ Consulter le livre Doc 2 p 108 \n",
    "\n",
    "Compléter le programme ci-dessous :\n",
    "\n",
    "**Noter vos réponses et le programme sur votre compte rendu (avec la coloration syntaxique)**"
   ]
  },
  {
   "cell_type": "code",
   "execution_count": null,
   "metadata": {},
   "outputs": [],
   "source": [
    "# ce programme doit afficher la couleur dominante\n",
    "R = int(input(\"Rouge\"))\n",
    "V = int(input(\"Vert\"))\n",
    "B = int(input(\"Bleu\"))\n"
   ]
  },
  {
   "cell_type": "markdown",
   "metadata": {},
   "source": [
    "## Activité 5 : Activité du livre "
   ]
  },
  {
   "cell_type": "markdown",
   "metadata": {},
   "source": [
    "Faire les exerices 22 et 26 p 183"
   ]
  }
 ],
 "metadata": {
  "extensions": {
   "jupyter_dashboards": {
    "activeView": "grid_default",
    "version": 1,
    "views": {
     "grid_default": {
      "cellMargin": 10,
      "defaultCellHeight": 20,
      "maxColumns": 12,
      "name": "grid",
      "type": "grid"
     },
     "report_default": {
      "name": "report",
      "type": "report"
     }
    }
   }
  },
  "kernelspec": {
   "display_name": "Python 3",
   "language": "python",
   "name": "python3"
  },
  "language_info": {
   "codemirror_mode": {
    "name": "ipython",
    "version": 3
   },
   "file_extension": ".py",
   "mimetype": "text/x-python",
   "name": "python",
   "nbconvert_exporter": "python",
   "pygments_lexer": "ipython3",
   "version": "3.7.0"
  }
 },
 "nbformat": 4,
 "nbformat_minor": 2
}

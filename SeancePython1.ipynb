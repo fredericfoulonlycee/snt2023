{
 "cells": [
  {
   "cell_type": "markdown",
   "metadata": {
    "extensions": {
     "jupyter_dashboards": {
      "version": 1,
      "views": {
       "grid_default": {},
       "report_default": {}
      }
     }
    }
   },
   "source": [
    "# Séance 1 : Programmer ... pour prendre un bon départ !  "
   ]
  },
  {
   "cell_type": "markdown",
   "metadata": {
    "extensions": {
     "jupyter_dashboards": {
      "version": 1,
      "views": {
       "grid_default": {},
       "report_default": {}
      }
     }
    }
   },
   "source": [
    "## Activité 1 : Qu'est ce qu'un programme ?\n",
    "\n",
    "Lire attentivement le paragraphe 1 p 174 et répondre aux questions suivantes : \n",
    "+ Qu'est ce qu'un programme ? \n",
    "+ Qu'est ce qu'une instruction ?\n",
    "+ l'ordre des instructions a t-il de l'importance dans un programme ? \n",
    "\n",
    "\n",
    "**Noter les réponses et la définition d'un programme sur votre compte rendu"
   ]
  },
  {
   "cell_type": "markdown",
   "metadata": {
    "extensions": {
     "jupyter_dashboards": {
      "version": 1,
      "views": {
       "grid_default": {},
       "report_default": {}
      }
     }
    }
   },
   "source": [
    "## Activité 2 : \n",
    "\n",
    "Ci dessous, vous avez le \"script\" d'un programme, nous allons essayer de comprendre à quoi il peut bien servir :   "
   ]
  },
  {
   "cell_type": "code",
   "execution_count": null,
   "metadata": {
    "extensions": {
     "jupyter_dashboards": {
      "version": 1,
      "views": {
       "grid_default": {},
       "report_default": {}
      }
     }
    }
   },
   "outputs": [],
   "source": [
    "# Commentaire :programme 1 séance 1\n",
    "dollaramericain = eval(input(\"Entrer le montant des dollars Américains que vous souhaitez convertir \"))\n",
    "euro = dollaramericain * 0.91\n",
    "print(\"le montant de \", dollaramericain , \"correspond à\" ,euro,\"€\")"
   ]
  },
  {
   "cell_type": "markdown",
   "metadata": {
    "extensions": {
     "jupyter_dashboards": {
      "version": 1,
      "views": {
       "grid_default": {},
       "report_default": {}
      }
     }
    }
   },
   "source": [
    "+ Que signifie le symbole # ? \n",
    "+ Si vous deviez donner un titre à ce programme quel serait-il ?\n",
    "+ Convertissez 25 dollars américains en euros ?\n",
    "+ Testez différentes valeurs ?\n",
    "+ Que signifie l'instruction *print* en Python ? \n",
    "+ Proposez des idées pour améliorer ce programme\n",
    "\n",
    "**Noter les réponses sur votre compte rendu**"
   ]
  },
  {
   "cell_type": "markdown",
   "metadata": {
    "extensions": {
     "jupyter_dashboards": {
      "version": 1,
      "views": {
       "grid_default": {},
       "report_default": {}
      }
     }
    }
   },
   "source": [
    "## Activité 3 : Les variables et leur type "
   ]
  },
  {
   "cell_type": "markdown",
   "metadata": {
    "extensions": {
     "jupyter_dashboards": {
      "version": 1,
      "views": {
       "grid_default": {},
       "report_default": {}
      }
     }
    }
   },
   "source": [
    "Dans un programme, nous allons manipuler des données.On enregistre les données dans des espaces mémoires.\n",
    "On désigne par *variable* ces emplacements de stockage.\n",
    "Les variables sont repérés par des noms.\n",
    "En python, on affecte une valeur à une variable à l'aide du symbole \"=\". \n",
    "(le même symbole sauf qu'il n'a pas exactement la même signification.)\n",
    "l'affectation se lit de droite à gauche.\n",
    "\n",
    "Ces données seront de différentes types (nombre entier, nombre flottant, texte ...).\n",
    "il existe en Python une astuce pour connaître le \"type\" d'une variable. \n",
    "\n",
    "Nous allons afficher le type des variables suivantes a , b et c : \n",
    "Par exemple pour connaître le type de a saisir `print(type(a))` à la suite du programme. \n",
    "la réponse est '<class 'int'> ce qui signifie que a est un entier."
   ]
  },
  {
   "cell_type": "code",
   "execution_count": null,
   "metadata": {
    "extensions": {
     "jupyter_dashboards": {
      "version": 1,
      "views": {
       "grid_default": {},
       "report_default": {}
      }
     }
    }
   },
   "outputs": [],
   "source": [
    "a = 125\n",
    "b = \"Bonjour le monde !\"\n",
    "c = 21.7\n",
    "print(type(a))"
   ]
  },
  {
   "cell_type": "markdown",
   "metadata": {
    "extensions": {
     "jupyter_dashboards": {
      "version": 1,
      "views": {
       "grid_default": {},
       "report_default": {}
      }
     }
    }
   },
   "source": [
    "+ quel est le type des variables a, b et c ? \n",
    "+ Noter les trois types principaux types de variables rencontrés en classe de seconde.\n",
    "\n",
    "**Noter les réponses sur votre compte rendu et faire les exercices 12 à 14 p182 pour la prochaine séance **"
   ]
  },
  {
   "cell_type": "markdown",
   "metadata": {
    "extensions": {
     "jupyter_dashboards": {
      "version": 1,
      "views": {
       "grid_default": {},
       "report_default": {}
      }
     }
    }
   },
   "source": [
    "## Activité 4 : Les instructions élémentaires "
   ]
  },
  {
   "cell_type": "markdown",
   "metadata": {
    "extensions": {
     "jupyter_dashboards": {
      "version": 1,
      "views": {
       "grid_default": {},
       "report_default": {}
      }
     }
    }
   },
   "source": [
    "Bien sûr, on peut réaliser des opérations sur les variables.\n",
    "Les plus connues sont les opérations mathématiques qui agissent sur les entiers et les flottants."
   ]
  },
  {
   "cell_type": "code",
   "execution_count": null,
   "metadata": {
    "extensions": {
     "jupyter_dashboards": {
      "version": 1,
      "views": {
       "grid_default": {},
       "report_default": {}
      }
     }
    },
    "scrolled": true
   },
   "outputs": [],
   "source": [
    "a = 4\n",
    "b = 5\n",
    "c =\"hello\"\n",
    "somme = a+b\n",
    "produit = a*b\n",
    "cube = a**3\n",
    "division = a/b\n",
    "longueur = len(c)\n",
    "print(\"a =\",a)\n",
    "print(\"b =\",b)\n",
    "print(\"somme =\",somme)\n",
    "print(\"cube =\",cube)\n",
    "print(\"longueur =\",longueur)"
   ]
  },
  {
   "cell_type": "markdown",
   "metadata": {
    "extensions": {
     "jupyter_dashboards": {
      "version": 1,
      "views": {
       "grid_default": {},
       "report_default": {}
      }
     }
    }
   },
   "source": [
    "+ Comment se note la multiplication en Python.\n",
    "+ Que fait \"**\" ?\n",
    "+ Que signifie \"len\" à votre avis , que quel type de variable agit l'opérateur len ? \n",
    "\n",
    "**Noter les réponses sur votre compte rendu **"
   ]
  },
  {
   "cell_type": "markdown",
   "metadata": {
    "extensions": {
     "jupyter_dashboards": {
      "version": 1,
      "views": {
       "grid_default": {},
       "report_default": {}
      }
     }
    }
   },
   "source": [
    "Lorsque l'on réalise un programme, il est important d'inter-agir avec l'utilisateur.\n",
    "Pour cela nous devons pouvoir saisir (entrée) des données et afficher des réponses.(sorties)\n",
    "C'est ce que nous allons voir maintenant."
   ]
  },
  {
   "cell_type": "markdown",
   "metadata": {
    "extensions": {
     "jupyter_dashboards": {
      "version": 1,
      "views": {
       "grid_default": {},
       "report_default": {}
      }
     }
    }
   },
   "source": [
    "## Entrée des données (texte)\n",
    "\n",
    "Pour cela, nous avons besoin de pouvoir entrer des valeurs et écrire des résultats à l'écran donc d'interagir avec un utilisateur.\n",
    "\n",
    "Pour demander à Python ce que l'utilisateur écrit sur son clavier, on utilise la fonction : `input`.\n",
    "\n",
    "Elle s'utilise ainsi : `texte = input(\"question à afficher\")`.\n",
    "\n",
    "Python affiche alors la question à afficher sans les guillemets et attend le texte tapé au clavier par l'utilisateur.\n",
    "Python sait que le texte est terminé lorsque l'utilisateur a tapé sur la touche entrée.\n",
    "\n",
    "### Exemple 1\n",
    "Lisez et exécutez le code suivant"
   ]
  },
  {
   "cell_type": "code",
   "execution_count": null,
   "metadata": {
    "extensions": {
     "jupyter_dashboards": {
      "version": 1,
      "views": {
       "grid_default": {},
       "report_default": {}
      }
     }
    }
   },
   "outputs": [],
   "source": [
    "prénom = input(\"Entrez votre prénom : \")"
   ]
  },
  {
   "cell_type": "markdown",
   "metadata": {
    "extensions": {
     "jupyter_dashboards": {
      "version": 1,
      "views": {
       "grid_default": {},
       "report_default": {}
      }
     }
    }
   },
   "source": [
    "## Affichage des résultats\n",
    "\n",
    "Une fois le texte entré, Python peut l'afficher à l'écran avec la fonction `print`.\n",
    "\n",
    "Elle s'utilise ainsi : `print(objet1, objet2, objet 3, ...)`.\n",
    "\n",
    "Python affiche alors les objets les uns à la suite des autres. Les objets peuvent être des étiquettes ou variables ou des morceaux de texte compris entre guillemets.\n",
    "\n",
    "### Exemple 2\n",
    "Lisez et exécutez le code suivant"
   ]
  },
  {
   "cell_type": "code",
   "execution_count": null,
   "metadata": {
    "extensions": {
     "jupyter_dashboards": {
      "version": 1,
      "views": {
       "grid_default": {},
       "report_default": {}
      }
     }
    }
   },
   "outputs": [],
   "source": [
    "print(\"Votre prénom est\",prénom,\".\")"
   ]
  },
  {
   "cell_type": "markdown",
   "metadata": {
    "extensions": {
     "jupyter_dashboards": {
      "version": 1,
      "views": {
       "grid_default": {},
       "report_default": {}
      }
     }
    }
   },
   "source": [
    "## Activité 5\n",
    "\n",
    "Dans le cadre de code ci-dessous, écrire un programme Python qui demande votre âge et l'affiche. "
   ]
  },
  {
   "cell_type": "code",
   "execution_count": null,
   "metadata": {
    "extensions": {
     "jupyter_dashboards": {
      "version": 1,
      "views": {
       "grid_default": {},
       "report_default": {}
      }
     }
    }
   },
   "outputs": [],
   "source": [
    "# cadre de code où écrire le programme de l'activité 5\n"
   ]
  },
  {
   "cell_type": "markdown",
   "metadata": {
    "extensions": {
     "jupyter_dashboards": {
      "version": 1,
      "views": {
       "grid_default": {},
       "report_default": {}
      }
     }
    }
   },
   "source": [
    "**Recopiez votre solution de l'activité 5 sur votre compte-rendu.**"
   ]
  },
  {
   "cell_type": "markdown",
   "metadata": {},
   "source": [
    "## Entrée des données (valeurs)\n",
    "\n",
    "### Exemple 3\n",
    "Lisez et exécutez le code suivant"
   ]
  },
  {
   "cell_type": "code",
   "execution_count": null,
   "metadata": {
    "extensions": {
     "jupyter_dashboards": {
      "version": 1,
      "views": {
       "grid_default": {},
       "report_default": {}
      }
     }
    }
   },
   "outputs": [],
   "source": [
    "texte = input(\"Entrez ce que vous souhaitez au clavier (lettres, chiffres, autres...) : \")\n",
    "print(\"Vous avez tapé \",texte)"
   ]
  },
  {
   "cell_type": "markdown",
   "metadata": {
    "extensions": {
     "jupyter_dashboards": {
      "version": 1,
      "views": {
       "grid_default": {},
       "report_default": {}
      }
     }
    }
   },
   "source": [
    "Dans le code précédent, Python ne comprend pas ce que vous avez tapé.\n",
    "\n",
    "Quand on tape quelquechose au clavier, Python range les touches frappées les unes après les autres dans sa mémoire comme s'il mettait bout à bout les maillons d'une chaîne.\n",
    "\n",
    "Pour lui, c'est une chaîne de caractères. Il ne fait pas de différence entre le caractère \"a\", le caractère \"2\" ou le caractère \"?\".\n",
    "\n",
    "En voici une repésentation quand on demande un texte.\n",
    "\n",
    "<IMG SRC=\"chaine1.png\">\n",
    "\n",
    "Si on entre le nombre 1670 par exemple, Python ne voit que la chaîne de caractères tapés pour écrire ce nombre.\n",
    "\n",
    "<IMG SRC=\"chaine2.png\">\n",
    "\n",
    "Si vous souhaitez que Python le comprenne, il faut l'évaluer.\n",
    "\n",
    "Pour demander à Python d'évaluer ce que l'utilisateur écrit sur son clavier, on utilise la fonction : `eval`.\n",
    "\n",
    "Elle s'utilise ainsi : `valeur = eval(\"texte représentant un nombre\")`.\n",
    "\n",
    "Remarque : La fonction `eval` fait le calcul entré par l'utilisateur. Le \"calcul\" peut être un simple nombre.\n",
    "\n",
    "<FONT color=\"red\"> **On utilise en général eval devant input seulement.** </FONT>\n",
    "\n",
    "<IMG SRC=\"chaine3.png\">"
   ]
  },
  {
   "cell_type": "markdown",
   "metadata": {},
   "source": [
    "## Activité 6 : Recherche d'une erreur !"
   ]
  },
  {
   "cell_type": "markdown",
   "metadata": {},
   "source": [
    "Il n'est pas grave d'avoir des erreurs lorsque l'on code des programmes.\n",
    "Mais il faut savoir les analyser et les trouver.\n",
    "Le programme suivant comporte une erreur.\n",
    "A vous de la débusquer ...au besoin relire ce qui est au dessus."
   ]
  },
  {
   "cell_type": "code",
   "execution_count": null,
   "metadata": {
    "extensions": {
     "jupyter_dashboards": {
      "version": 1,
      "views": {
       "grid_default": {},
       "report_default": {}
      }
     }
    }
   },
   "outputs": [],
   "source": [
    "age = input(\"Entrer votre age  : \")\n",
    "anneedenaissance = 2019-age\n",
    "print(\"vous êtes né en \",anneedenaissance)\n"
   ]
  },
  {
   "cell_type": "markdown",
   "metadata": {
    "extensions": {
     "jupyter_dashboards": {
      "version": 1,
      "views": {
       "grid_default": {},
       "report_default": {}
      }
     }
    }
   },
   "source": [
    "Python ne comprend pas la ligne 2, il dit qu'il y a une erreur de type. "
   ]
  },
  {
   "cell_type": "markdown",
   "metadata": {},
   "source": [
    "# Activité du livre \n",
    "+ Refaire l'exerice corrigé p 175 [lien tuto type de variable](https://www.youtube.com/watch?v=YcnuQSETyDo)  \n",
    "+ Faire les exercices 1 et 2 p175"
   ]
  }
 ],
 "metadata": {
  "extensions": {
   "jupyter_dashboards": {
    "activeView": "grid_default",
    "version": 1,
    "views": {
     "grid_default": {
      "cellMargin": 10,
      "defaultCellHeight": 20,
      "maxColumns": 12,
      "name": "grid",
      "type": "grid"
     },
     "report_default": {
      "name": "report",
      "type": "report"
     }
    }
   }
  },
  "kernelspec": {
   "display_name": "Python 3",
   "language": "python",
   "name": "python3"
  },
  "language_info": {
   "codemirror_mode": {
    "name": "ipython",
    "version": 3
   },
   "file_extension": ".py",
   "mimetype": "text/x-python",
   "name": "python",
   "nbconvert_exporter": "python",
   "pygments_lexer": "ipython3",
   "version": "3.7.0"
  }
 },
 "nbformat": 4,
 "nbformat_minor": 2
}

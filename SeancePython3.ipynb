{
 "cells": [
  {
   "cell_type": "markdown",
   "metadata": {
    "extensions": {
     "jupyter_dashboards": {
      "version": 1,
      "views": {
       "grid_default": {},
       "report_default": {}
      }
     }
    }
   },
   "source": [
    "# Séance 3 : Les boucles  "
   ]
  },
  {
   "cell_type": "markdown",
   "metadata": {},
   "source": [
    "Vous avez déjà rencontré la notion de boucle avec Scratch , \n",
    "<img SRC=\"boucles.png\">\n",
    "Mais qu'est ce qu'une boucle ? "
   ]
  },
  {
   "cell_type": "markdown",
   "metadata": {
    "extensions": {
     "jupyter_dashboards": {
      "version": 1,
      "views": {
       "grid_default": {},
       "report_default": {}
      }
     }
    }
   },
   "source": [
    "## Activité 1 : Qu'est ce qu'une boucle ?\n",
    "\n",
    "Lire attentivement le paragraphe 6 p 178 et répondre aux questions suivantes : \n",
    "\n",
    "+ Qu'est ce qu'une boucle en informatique ? \n",
    "+ Les instructions for (boucle bonée) et while (boucle non bornée) sont toujours suivie par quelle ponctuation ?\n",
    "+ Que signifie le mot **\"indentées\"** lorsque l'on dit **\" les instructions à répéter sont *indentées*\"** ? \n",
    "\n",
    "**Noter les réponses et la définition d'une boucle sur votre compte rendu**"
   ]
  },
  {
   "cell_type": "markdown",
   "metadata": {},
   "source": [
    "## Activité 2 : les boucles bornées ? \n",
    "\n",
    "+ Quelle instruction Python correspond a une boucle bornée ? \n",
    "+ Dans l'exemple 1 Combien de fois est répété l'instruction print ?\n",
    "+ Dans l'exemple 1, quelles sont les valeurs prises par i ?"
   ]
  },
  {
   "cell_type": "markdown",
   "metadata": {},
   "source": [
    "## Exemple 1 : Exécuter le programme suivant :"
   ]
  },
  {
   "cell_type": "code",
   "execution_count": null,
   "metadata": {},
   "outputs": [],
   "source": [
    "for i in range(5):\n",
    "    print(5-i)"
   ]
  },
  {
   "cell_type": "markdown",
   "metadata": {},
   "source": [
    "**Noter les réponses sur votre compte rendu**"
   ]
  },
  {
   "cell_type": "markdown",
   "metadata": {},
   "source": [
    "**Attention  :**\n",
    "\n",
    "+ En python l'indice i de la boucle prend les valeurs entières de 0 à n-1\n",
    "+ On peut également modifier le pas qui sépare l'indice du suivant comme dans cet exemple 2"
   ]
  },
  {
   "cell_type": "markdown",
   "metadata": {},
   "source": [
    "## Exemple 2 :"
   ]
  },
  {
   "cell_type": "code",
   "execution_count": null,
   "metadata": {},
   "outputs": [],
   "source": [
    "for i in range (10,20,2):\n",
    "    print(i)"
   ]
  },
  {
   "cell_type": "markdown",
   "metadata": {},
   "source": [
    "## Activité 3 : Ecrire une boucle bornée toute simple !"
   ]
  },
  {
   "cell_type": "markdown",
   "metadata": {},
   "source": [
    " Nous souhaitons aider Bart en codant un programme en Python écrivant à sa place 10 fois la phrase \"Je ne dois pas ramener de véritable python au lycée.\".\n"
   ]
  },
  {
   "cell_type": "markdown",
   "metadata": {},
   "source": [
    "<IMG SRC=\"bartpython.png\" width='400'>"
   ]
  },
  {
   "cell_type": "code",
   "execution_count": null,
   "metadata": {},
   "outputs": [],
   "source": [
    "# compléter le programme Aidons Bart :\n",
    "for i in range (9):\n",
    "    print(i)\n",
    "    "
   ]
  },
  {
   "cell_type": "markdown",
   "metadata": {},
   "source": [
    "**Noter le programme sur votre compte rendu**"
   ]
  },
  {
   "cell_type": "markdown",
   "metadata": {},
   "source": [
    "## Activité 4 : les tables de multiplication\n",
    "\n",
    "+ Ecrire un programme qui donne la table de multiplication par 9\n",
    "+ l'affichage doit respecter le format 1 $\\times$ 9 = 9 ... \n",
    "+ On obtient le symbole × , en maintenant la touche Alt et en tapant 0215 sur le clavier numérique  \n"
   ]
  },
  {
   "cell_type": "code",
   "execution_count": null,
   "metadata": {},
   "outputs": [],
   "source": [
    " # table de multiplication par 9 "
   ]
  },
  {
   "cell_type": "markdown",
   "metadata": {},
   "source": [
    "### suite ... \n",
    "\n",
    "Ecrire dans le cadre de code ci-dessous, un programme en Python qui demande un nombre entier et qui affiche la table de multiplication de ce nombre.\n",
    "\n",
    "Par exemple, si on entre 12, le programme affiche\n",
    "\n",
    "0 × 12 = 0<br>1 × 12 = 12<br>2 × 12 = 24<br>3 × 12 = 36<br>4 × 12 = 48<br>5 × 12 = 60<br>6 × 12 = 72<br>7 × 12 = 84<br>8 × 12 = 96<br>9 × 12 = 108<br>10 × 12 = 120"
   ]
  },
  {
   "cell_type": "markdown",
   "metadata": {},
   "source": [
    "## Activité 5 : les boucles non bornées ? "
   ]
  },
  {
   "cell_type": "markdown",
   "metadata": {},
   "source": [
    "Lire attentivement le paragraphe 6 p 178 et répondre aux questions suivantes : \n",
    "\n",
    "+ Quelle instruction Python correspond a une boucle non bornée ?\n",
    "+ Quelle est la différence principale entre une boucle bornée et un boucle non bornée ?  \n",
    "+ Qu'est ce qu'un compteur ? quel est son intérêt ? \n",
    "+ exécuter le programme suivant et bien le comprendre   \n",
    "+ Expliquer la ligne annees = annees + 1 \n",
    "+ supprimer la ligne **annees = annees + 1**  que se passe t-il ? \n",
    "\n",
    "**Noter les réponses sur votre compte rendu**"
   ]
  },
  {
   "cell_type": "code",
   "execution_count": null,
   "metadata": {},
   "outputs": [],
   "source": [
    "# Consommation d'internet en TWh/an\n",
    "consommation = 1500\n",
    "annees = 0\n",
    "while consommation <6000:\n",
    "    consommation = 1.2 *consommation\n",
    "    annees = annees + 1\n",
    "print(\"le nombre d'années pour que la consommation d'internet dépasse 6000 Twh/an est de : \", annees)"
   ]
  },
  {
   "cell_type": "markdown",
   "metadata": {},
   "source": [
    "## Activité 5 : Réseau social "
   ]
  },
  {
   "cell_type": "markdown",
   "metadata": {},
   "source": [
    "<IMG SRC=\"socialmedia1.png\" width='400'>"
   ]
  },
  {
   "cell_type": "markdown",
   "metadata": {},
   "source": [
    "Le nombre d’inscrits sur un nouveau réseau social est de 400 000 en Janvier. \n",
    "Il est multiplié par 1,1 tous les mois. \n",
    "On souhaite écrire un programme estimant au bout de combien de mois il y aura plus d’1 million d’inscrits.\n",
    "Ecrire le programme correspondant en Python."
   ]
  },
  {
   "cell_type": "code",
   "execution_count": null,
   "metadata": {},
   "outputs": [],
   "source": [
    "# Programme nombre d'inscrits sur un réseau social\n"
   ]
  },
  {
   "cell_type": "markdown",
   "metadata": {},
   "source": [
    "## Activité 6 : Activité du livre "
   ]
  },
  {
   "cell_type": "markdown",
   "metadata": {},
   "source": [
    "Faire Activité 5 p 179\n",
    "\n",
    "**Noter la ou les réponses sur votre compte rendu**"
   ]
  },
  {
   "cell_type": "markdown",
   "metadata": {},
   "source": [
    "[Pour réviser des tutos en vidéos sur les boucles ](http://numeres.net/containers/html/9782206103389/tutos_container.html)"
   ]
  }
 ],
 "metadata": {
  "extensions": {
   "jupyter_dashboards": {
    "activeView": "grid_default",
    "version": 1,
    "views": {
     "grid_default": {
      "cellMargin": 10,
      "defaultCellHeight": 20,
      "maxColumns": 12,
      "name": "grid",
      "type": "grid"
     },
     "report_default": {
      "name": "report",
      "type": "report"
     }
    }
   }
  },
  "kernelspec": {
   "display_name": "Python 3",
   "language": "python",
   "name": "python3"
  },
  "language_info": {
   "codemirror_mode": {
    "name": "ipython",
    "version": 3
   },
   "file_extension": ".py",
   "mimetype": "text/x-python",
   "name": "python",
   "nbconvert_exporter": "python",
   "pygments_lexer": "ipython3",
   "version": "3.7.0"
  }
 },
 "nbformat": 4,
 "nbformat_minor": 2
}
